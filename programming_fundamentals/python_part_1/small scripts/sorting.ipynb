{
 "cells": [
  {
   "cell_type": "code",
   "execution_count": null,
   "metadata": {},
   "outputs": [],
   "source": [
    "arr = [7, 3, 9, 2, 0, 4, 8, 1, 6, 5]\n",
    "\n",
    "def bubbleSort(theSeq):\n",
    "    n = len(theSeq)\n",
    "    for i in range(n - 1):\n",
    "        for j in range(n - 1 - i):\n",
    "            if theSeq[j] > theSeq[j +1]:\n",
    "                temp = theSeq[j]\n",
    "                theSeq[j] = theSeq[j+1]\n",
    "                theSeq[j + 1] = temp\n",
    "    return theSeq\n",
    "\n",
    "print(bubbleSort(arr))"
   ]
  },
  {
   "cell_type": "code",
   "execution_count": null,
   "metadata": {},
   "outputs": [],
   "source": [
    "#printing prime numbers in a range\n",
    "lower = 100\n",
    "upper = 200\n",
    "for num in range(lower, upper + 1):\n",
    "    if num > 1:\n",
    "        for i in range(2, num):\n",
    "            if num % i == 0:\n",
    "                break\n",
    "        else:\n",
    "            print(num) #prime numbers"
   ]
  },
  {
   "cell_type": "code",
   "execution_count": null,
   "metadata": {},
   "outputs": [],
   "source": []
  },
  {
   "cell_type": "code",
   "execution_count": null,
   "metadata": {},
   "outputs": [],
   "source": []
  },
  {
   "cell_type": "code",
   "execution_count": null,
   "metadata": {},
   "outputs": [],
   "source": [
    "#checking for prime number\n",
    "num = int(input(\"Enter a number: \"))\n",
    "if num < 1:\n",
    "    print(\"not a prime number\")\n",
    "else:\n",
    "    for i in range(2, num):\n",
    "        if num % i == 0:\n",
    "            print(\"not a prime number\")\n",
    "            break\n",
    "    else:\n",
    "        print(\"PRIME NUMBER!\")"
   ]
  },
  {
   "cell_type": "code",
   "execution_count": 35,
   "metadata": {},
   "outputs": [
    {
     "name": "stdout",
     "output_type": "stream",
     "text": [
      "PALINDROME!\n"
     ]
    }
   ],
   "source": [
    "#check for palindrome\n",
    "s = input(\"enter a string :\")\n",
    "\n",
    "# reverse a given string\n",
    "def palindrome(string):\n",
    "    x = \"\"\n",
    "    for i in string:\n",
    "        x = i + x\n",
    "    return x\n",
    "\n",
    "if s == palindrome(s):\n",
    "    print(\"PALINDROME!\")\n",
    "    \n",
    "else:\n",
    "    print(\"NOT A PAL!\")"
   ]
  },
  {
   "cell_type": "code",
   "execution_count": 39,
   "metadata": {},
   "outputs": [
    {
     "name": "stdout",
     "output_type": "stream",
     "text": [
      "ednoy\n"
     ]
    }
   ],
   "source": [
    "#reverse a string\n",
    "s = input(\"enter a string!\")\n",
    "\n",
    "#reverse a given string\n",
    "def palindrome(string):\n",
    "    x = \"\"\n",
    "    for i in string:\n",
    "        x = i + x\n",
    "    return x\n",
    "\n",
    "print(palindrome(s))"
   ]
  },
  {
   "cell_type": "code",
   "execution_count": 41,
   "metadata": {},
   "outputs": [
    {
     "name": "stdout",
     "output_type": "stream",
     "text": [
      "False\n"
     ]
    }
   ],
   "source": [
    "#check for palindrome\n",
    "s = input(\"enter a string! :\")\n",
    "\n",
    "#function to check for the palindrome\n",
    "def palindrome(string):\n",
    "    for i in range(1, int(len(string) / 2)):\n",
    "        if string[i] == string[len(string) - i - 1]:\n",
    "            return True\n",
    "    return False\n",
    "\n",
    "print(palindrome(s))"
   ]
  },
  {
   "cell_type": "code",
   "execution_count": 42,
   "metadata": {},
   "outputs": [
    {
     "name": "stdout",
     "output_type": "stream",
     "text": [
      "reverse of the given number is 98765\n"
     ]
    }
   ],
   "source": [
    "#reverse a given number\n",
    "def rev_num(num):\n",
    "    rev = 0\n",
    "    while num > 0:\n",
    "        remainder = num % 10\n",
    "        rev = (rev * 10) + remainder\n",
    "        num = num // 10\n",
    "    return rev\n",
    "\n",
    "print(f\"reverse of the given number is {rev_num(56789)}\")"
   ]
  },
  {
   "cell_type": "code",
   "execution_count": 51,
   "metadata": {},
   "outputs": [
    {
     "name": "stdout",
     "output_type": "stream",
     "text": [
      "hcf = None\n"
     ]
    }
   ],
   "source": [
    "#HCF or GCD of two numbers\n",
    "def hcf(num1, num2):\n",
    "    if num1 > num2:\n",
    "        smaller = num2\n",
    "    else:\n",
    "        smaller = num1\n",
    "    for i in range(1, smaller + 1):\n",
    "        if (num1 % i == 0) and (num2 % i == 0):\n",
    "            factor = i\n",
    "            \n",
    "print(f\"hcf = {hcf(20 , 24)}\")\n",
    "    "
   ]
  },
  {
   "cell_type": "code",
   "execution_count": 50,
   "metadata": {},
   "outputs": [
    {
     "name": "stdout",
     "output_type": "stream",
     "text": [
      "lcm = 84\n"
     ]
    }
   ],
   "source": [
    "#To find LCM of two numbers\n",
    "def lcm(num1, num2):\n",
    "    if num1 > num2:\n",
    "        greater = num1\n",
    "    else:\n",
    "        greater = num2\n",
    "        \n",
    "    while True:\n",
    "        if (greater % num1 == 0) and (greater % num2 == 0):\n",
    "            break\n",
    "        greater += 1\n",
    "    return greater\n",
    "\n",
    "print(f'lcm = {lcm(12, 14)}')"
   ]
  }
 ],
 "metadata": {
  "kernelspec": {
   "display_name": "pythonProject1",
   "language": "python",
   "name": "python3"
  },
  "language_info": {
   "codemirror_mode": {
    "name": "ipython",
    "version": 3
   },
   "file_extension": ".py",
   "mimetype": "text/x-python",
   "name": "python",
   "nbconvert_exporter": "python",
   "pygments_lexer": "ipython3",
   "version": "3.10.4"
  },
  "orig_nbformat": 4,
  "vscode": {
   "interpreter": {
    "hash": "0a95e2203347c46877cec94ff8c1cf81bcbdc80de2e1019bc26afa325ab08f0d"
   }
  }
 },
 "nbformat": 4,
 "nbformat_minor": 2
}
